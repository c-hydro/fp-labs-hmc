{
 "cells": [
  {
   "cell_type": "markdown",
   "metadata": {},
   "source": [
    "***\n",
    "# **FloodProofs Labs - HMC Training - Model Runner - Realtime Viewer** \n",
    "\n",
    "<img style=\"float: left; padding-right: 80px; padding-left: 5px;\" src=\"img/logo_hmc.png\" width=\"200px\" align=”left” >\n",
    "\n",
    "In the laboratory of **Continuum Model Runner - Realtime Viewer** we will perform the following points:\n",
    "   * Configure the libraries and the dependecies of the laboratory;\n",
    "   * Read the configuration file of the laboratory;\n",
    "   * Set the funcions for plotting results in realtime mode;\n",
    "   * Import **shared variables** file to use the information saved in the **Model Runner - Realtime Execution** Jupyter Notebook;\n",
    "   * Configure the static datasets (**shapefile file section**);\n",
    "   * Configure the dynamic datasets (**hmc.hydrographs.txt**);\n",
    "   * Plot the model results in realtime mode to check and analyze the status of the run. "
   ]
  },
  {
   "cell_type": "markdown",
   "metadata": {},
   "source": [
    "### **Import libraries and dependencies**"
   ]
  },
  {
   "cell_type": "code",
   "execution_count": 51,
   "metadata": {},
   "outputs": [],
   "source": [
    "%matplotlib inline\n",
    "#%matplotlib widget"
   ]
  },
  {
   "cell_type": "code",
   "execution_count": 54,
   "metadata": {},
   "outputs": [
    {
     "name": "stdout",
     "output_type": "stream",
     "text": [
      " ==> Add HMC library in the environment ... \n",
      " ===> Added in: /home/fabio/fp_labs_hmc/library/jupyter_hmc/\n",
      " ==> Add HMC library in the environment ... DONE\n"
     ]
    }
   ],
   "source": [
    "# Add hmc library to the paths environment\n",
    "import sys\n",
    "import os\n",
    "\n",
    "# Info\n",
    "print(' ==> Add HMC library in the environment ... ') \n",
    "\n",
    "folder_home_env = os.path.expanduser('~')\n",
    "folder_library_hmc = \"/fp_labs_hmc/library/jupyter_hmc/\"\n",
    "\n",
    "folder_library_hmc = folder_home_env + folder_library_hmc\n",
    "sys.path.append(folder_library_hmc)\n",
    "\n",
    "# Info\n",
    "print(' ===> Added in: ' + folder_library_hmc)\n",
    "print(' ==> Add HMC library in the environment ... DONE')  "
   ]
  },
  {
   "cell_type": "code",
   "execution_count": 55,
   "metadata": {},
   "outputs": [
    {
     "name": "stdout",
     "output_type": "stream",
     "text": [
      " ==> Load generic and package libraries ... \n",
      " ==> Load generic and package libraries ... DONE\n"
     ]
    }
   ],
   "source": [
    "# Libraries\n",
    "print(' ==> Load generic and package libraries ... ')\n",
    "\n",
    "import pickle\n",
    "import os\n",
    "import time\n",
    "import numpy as np\n",
    "\n",
    "# Add hmc library to the paths environment\n",
    "from library.jupyter_generic.lib_jupyter_utils_io import update_json_file\n",
    "\n",
    "from library.jupyter_generic.lib_jupyter_utils_system import make_folder\n",
    "\n",
    "from library.jupyter_generic.lib_jupyter_data_io_json import read_file_settings\n",
    "from library.jupyter_generic.lib_jupyter_data_geo_shapefile import read_data_section\n",
    "from library.jupyter_generic.lib_jupyter_data_io_ascii import read_file_ascii_hydrograph\n",
    "from library.jupyter_generic.lib_jupyter_plot_realtime import adjust_ts_realtime, get_info_realtime\n",
    "\n",
    "from IPython.display import clear_output\n",
    "\n",
    "import matplotlib.pylab as plt\n",
    "\n",
    "def write_pickle(file_name, file_data):\n",
    "    if os.path.exists(file_name):\n",
    "        os.remove(file_name)\n",
    "    with open(file_name,'wb') as file_handle:\n",
    "        pickle.dump(file_data, file_handle) \n",
    "\n",
    "def read_pickle(file_name):\n",
    "    if not os.path.exists(file_name):\n",
    "        raise IOError('File ' + file_name + ' not found!')\n",
    "    file_handle = open(file_name,'rb')  \n",
    "    file_data = pickle.load(file_handle)  \n",
    "    return file_data\n",
    "\n",
    "# File name for sharing variable(s)\n",
    "file_name_shared_vars = \"shared_variables.workspace\"\n",
    "# Section in each graph\n",
    "section_n_graph = 10\n",
    "\n",
    "# Info\n",
    "print(' ==> Load generic and package libraries ... DONE')"
   ]
  },
  {
   "cell_type": "markdown",
   "metadata": {},
   "source": [
    "### **Set function(s) for realtime plots**"
   ]
  },
  {
   "cell_type": "code",
   "execution_count": 78,
   "metadata": {},
   "outputs": [],
   "source": [
    "# Method to plot time-series live\n",
    "def plot_ts_realtime(file_name, file_time_stamp, file_dframe,\n",
    "                     fig_y_label='Discharge [m^3/s]', fig_title_generic='HMC Time-Series',\n",
    "                     fig_y_min=0, fig_y_max=100, fig_dpi=150, fig_show=True, fig_jupyter=True,\n",
    "                     fig_update=True):\n",
    "    \n",
    "    select_tag = list(file_dframe.columns)\n",
    "    select_n = select_tag.__len__()\n",
    "    \n",
    "    file_time_string = file_time_stamp.strftime('%Y-%d-%m %H:00')\n",
    "\n",
    "    fig_title_info = ' === Time: ' + file_time_string\n",
    "    fig_title = fig_title_generic + fig_title_info\n",
    "    \n",
    "    clear_output(wait=True)\n",
    "    \n",
    "    fig, ax = plt.subplots(1, 1, figsize=(15, 5))\n",
    "\n",
    "    p = ax.plot(file_dframe.index, file_dframe[select_tag].values, linestyle='-', lw=2)\n",
    "\n",
    "    ax.set_xlim(file_dframe.index[0], file_dframe.index[-1])\n",
    "    ax.set_ylim(fig_y_min, fig_y_max)\n",
    "\n",
    "    ax.set_title(fig_title)\n",
    "    ax.set_ylabel(fig_y_label)\n",
    "    ax.grid(b=True)\n",
    "\n",
    "    p_handle_list = []\n",
    "    for i in range(0, select_n):\n",
    "        p_handle_list.append(p[i])\n",
    "    legend = ax.legend(p_handle_list, select_tag, frameon=False, loc=2)\n",
    "    ax.add_artist(legend)\n",
    "\n",
    "    plt.show()\n",
    "    \n",
    "    if fig_update:\n",
    "        if os.path.exists(file_name):\n",
    "            os.remove(file_name)\n",
    "    \n",
    "    fig.savefig(file_name, dpi=fig_dpi)\n",
    "\n",
    "    if not fig_show:\n",
    "        plt.close()"
   ]
  },
  {
   "cell_type": "markdown",
   "metadata": {},
   "source": [
    "### **Configure the Continuum laboratory**\n",
    "- Load the shared variables"
   ]
  },
  {
   "cell_type": "code",
   "execution_count": 57,
   "metadata": {},
   "outputs": [
    {
     "name": "stdout",
     "output_type": "stream",
     "text": [
      " ==> Load shared variables ... \n",
      " ==> Load shared variables ... DONE\n"
     ]
    }
   ],
   "source": [
    "# Info\n",
    "print(' ==> Load shared variables ... ')\n",
    "\n",
    "# Read pickle file of shared variable(s)\n",
    "variables_shared = read_pickle(file_name_shared_vars)\n",
    "\n",
    "# Info\n",
    "print(' ==> Load shared variables ... DONE')"
   ]
  },
  {
   "cell_type": "markdown",
   "metadata": {},
   "source": [
    "- Get the shared variables"
   ]
  },
  {
   "cell_type": "code",
   "execution_count": 62,
   "metadata": {},
   "outputs": [
    {
     "name": "stdout",
     "output_type": "stream",
     "text": [
      " ==> Get shared variables ... \n",
      " ===> TimeRun: 2021-01-28 12:00:00\n",
      " ===> RunName: jupyter_ws\n",
      " ===> Filename Section: /home/fabio/fp_labs_datasets/data_static/shapefile/fp_sections_marche.shp\n",
      " ===> Filename Hydrograph: /home/fabio/fp_run_hmc/jupyter_ws/outcome/timeseries/hmc.hydrograph.txt\n",
      " ===> Filename Images: /home/fabio/fp_run_hmc/jupyter_ws/outcome/images/hmc_ts_group{group_name}_{time_name}.png\n",
      " ==> Get shared variables ... \n"
     ]
    }
   ],
   "source": [
    "# Info\n",
    "print(' ==> Get shared variables ... ')\n",
    "\n",
    "# Get shared variable(s)\n",
    "time_series_collections = variables_shared['time_series_collections']\n",
    "driver_hmc_builder = variables_shared['driver_hmc_builder']\n",
    "\n",
    "time_run = variables_shared['time_run']\n",
    "run_name = variables_shared['run_name']\n",
    "\n",
    "file_name_section = variables_shared['file_name_section']\n",
    "file_name_hydrograph = variables_shared['file_name_hydrograph']\n",
    "file_name_images = variables_shared['file_name_images']\n",
    "driver_hmc_builder = variables_shared['driver_hmc_builder']\n",
    "\n",
    "#file_name_hydrograph = file_name_hydrograph.replace(\"'\", \"\")\n",
    "\n",
    "print(' ===> TimeRun: ' + str(time_run))\n",
    "print(' ===> RunName: ' + run_name)\n",
    "print(' ===> Filename Section: ' + file_name_section)\n",
    "print(' ===> Filename Hydrograph: ' + file_name_hydrograph)\n",
    "print(' ===> Filename Images: ' + file_name_images)\n",
    "\n",
    "# Info\n",
    "print(' ==> Get shared variables ... ')"
   ]
  },
  {
   "cell_type": "markdown",
   "metadata": {},
   "source": [
    "### **Read the static datasets**\n",
    "- Get section datasets"
   ]
  },
  {
   "cell_type": "code",
   "execution_count": 59,
   "metadata": {},
   "outputs": [
    {
     "name": "stdout",
     "output_type": "stream",
     "text": [
      " ==> Get section datasets ... \n",
      " ==> Get section datasets ... DONE\n"
     ]
    }
   ],
   "source": [
    "# Info\n",
    "print(' ==> Get section datasets ... ')\n",
    "\n",
    "# Read sections shapefile\n",
    "dset_section = read_data_section(file_name_section)\n",
    "\n",
    "# Define outlet sections list\n",
    "section_list_all = ['_'.join([sec_domain, sec_name]) for sec_name, sec_domain in\n",
    "                       zip(dset_section['section_name'], dset_section['section_domain'])]\n",
    "\n",
    "# Info\n",
    "print(' ==> Get section datasets ... DONE')"
   ]
  },
  {
   "cell_type": "markdown",
   "metadata": {},
   "source": [
    "- Define section group(s)"
   ]
  },
  {
   "cell_type": "code",
   "execution_count": 90,
   "metadata": {},
   "outputs": [
    {
     "name": "stdout",
     "output_type": "stream",
     "text": [
      " ==> Define section groups ... \n",
      " ===> Section groups: {0: ['00', 0, 10, ['Foglia_Foglia3', 'Foglia_Montecchio', 'Foglia_Bronzo', 'Arzilla_Arzilla', 'Metauro_FoceMetauro', 'Metauro_Metauro', 'Metauro_Fossombrone', 'Metauro_Acqualagna', 'Cesano_FoceCesano', 'Misa_Misa']], 1: ['01', 10, 20, ['Misa_Nevola', 'Misa_SerraDeiConti', 'Esino_MonteSanVito', 'Esino_Moie', 'Esino_Camponocecchio', 'Esino_Colleponi', 'Esino_Fabriano', 'Aspio_Aspio2', 'Aspio_Aspio', 'Musone_Rostighello']], 2: ['02', 20, 30, ['Musone_Passatempo', 'Musone_Musone', 'Musone_SanVettore', 'Potenza_PortoRecanati', 'Potenza_Monocchia', 'Potenza_Potenza1', 'Potenza_Pioraco', 'Chienti_FoceChienti', 'Chienti_Chienti2', 'Chienti_Chienti1']], 3: ['03', 30, 40, ['Chienti_Fiastra', 'Chienti_Fiastrone', 'EteMorto_EteMorto', 'Tenna_PortoSElpidio', 'Tenna_Tenna', 'EteVivo_EteVivo', 'Aso_Rubbianello', 'Aso_Aso', 'Menocchia_Menocchia', 'Tesino_FoceTesino']], 4: ['04', 40, 50, ['Tronto_BrigliaVolpi', 'Tronto_Tronto', 'Tronto_PonteDArli', 'Nera_Visso', 'Metauro_ConfluenzaMetauroCandigliano', 'Misa_PianelloDiOstra', 'Misa_ConfluenzaMisaNevola', 'Esino_FoceEsino', 'Mercatale_Diga', 'Furlo_Diga']], 5: ['05', 50, 60, ['SanLazzaro_Diga', 'Tavernelle_Diga', 'Castreccioni_Diga', 'Fiastrone_Diga', 'Polverina_Diga', 'Borgiano_Diga', 'LeGrazie_Diga', 'Comunanza_Diga', 'SanRuffino_Diga', 'Talvacchia_Diga']], 6: ['06', 60, 70, ['Scandarello_Diga', 'Genica_Genica', 'Tronto_Trisungo', 'Tronto_Grisciano', 'Tronto_Accumoli', 'Castellano_Amatrice', 'Tronto_Amatrice', 'Tronto_PoggioVitellino', 'Scandarello_Confluenza', 'Tronto_Cornillo']], 7: ['07', 70, 80, ['Tronto_Libertino', 'Rio_Confluenza', 'Tronto_PescaraDelTronto', 'Camartina_Confluenza', 'Tronto_PoggioCasoli', 'Tronto_AcquasantaTerme', 'Nera_Castelsantangelo', 'Nera_PonteTavola', 'Misa_PonteGaribaldi', 'Castellano_PortaCartara']], 8: ['08', 80, 90, ['Tesino_SMariaGoretti', 'Cesano_SMicheleAlFiume', 'Aso_Valmir', 'Misa_PassoRipe', 'Esino_PonteBarchetta', 'VillaPera_Diga', 'Colombara_Diga', 'Rapegna_Nocelleto', 'Ussita_MadonnaUccelletto', 'Aso_SGiorgioIsola']], 9: ['09', 90, 97, ['Chienti_PonteLaTrave', 'Tenna_Friano', 'Burano_Pontedazzo', 'Burano_CagliPonteCavour', 'Bosso_CagliCivita', 'Foglia_Mercatale', 'Metauro_SAngeloinVado2']]}\n",
      " ==> Define section groups... DONE\n"
     ]
    }
   ],
   "source": [
    "# Info\n",
    "print(' ==> Define section groups ... ')\n",
    "\n",
    "section_n_tot = section_list_all.__len__()\n",
    "section_range = np.arange(0, section_n_tot, section_n_graph).tolist()\n",
    "section_range.append(section_n_tot)\n",
    "section_range = sorted(list(set(section_range)))\n",
    "\n",
    "section_range_lower = section_range[:-1]\n",
    "section_range_upper = section_range[1:]\n",
    "\n",
    "section_group_dict = {}\n",
    "for section_group, (section_range_lower, section_range_upper) in enumerate(zip(section_range_lower, section_range_upper)):\n",
    "    \n",
    "    section_group_list = []\n",
    "    section_group_str = str(section_group).zfill(2)\n",
    "    \n",
    "    section_list_step = section_list_all[section_range_lower:section_range_upper]\n",
    "    \n",
    "    section_group_list.append([section_group_str, section_range_lower, section_range_upper, section_list_step])\n",
    "    section_group_dict[section_group] = section_group_list[0]\n",
    "    \n",
    "# Info\n",
    "print(' ===> Section groups: ' + str(section_group_dict))\n",
    "print(' ==> Define section groups... DONE')"
   ]
  },
  {
   "cell_type": "markdown",
   "metadata": {},
   "source": [
    "## **Plot the Continuum time-series in realtime mode**"
   ]
  },
  {
   "cell_type": "code",
   "execution_count": 88,
   "metadata": {},
   "outputs": [
    {
     "data": {
      "image/png": "[encoded data removed]",
      "text/plain": [
       "<Figure size 1080x360 with 1 Axes>"
      ]
     },
     "metadata": {
      "needs_background": "light"
     },
     "output_type": "display_data"
    }
   ],
   "source": [
    "# Procedure to keep alive iterations for checking new datasets in the target folder(s)\n",
    "\n",
    "# Group key\n",
    "key_group = 4\n",
    "while True:\n",
    "    try:\n",
    "        # Get file hydrograph time-series datasets\n",
    "        file_dframe_live = read_file_ascii_hydrograph(file_name_hydrograph, file_columns=section_list_all)\n",
    "        \n",
    "        # Get file hydrograph time-series information\n",
    "        time_stamp_min, time_stamp_max = get_info_realtime(file_dframe_live)\n",
    "        # Adjust file hydrograph time-series (related to the run period)\n",
    "        file_dframe_adjust = adjust_ts_realtime(file_dframe_live, time_series_collections['deterministic'].index)\n",
    "        \n",
    "        # Select section group \n",
    "        section_list_select = section_list_all[int(section_group_dict[key_group][1]):int(section_group_dict[key_group][2])]\n",
    "        # Select dataframe group\n",
    "        file_dframe_select = file_dframe_adjust[section_list_select]\n",
    "\n",
    "        # Define time-series plot filename\n",
    "        group_str = section_group_dict[key_group][0]\n",
    "        file_path_images_step = file_name_images.format(time_name=time_stamp_max.strftime('%Y%d%m_%H00'), group_name=group_str)\n",
    "        folder_name_step, file_name_step = os.path.split(file_path_images_step)\n",
    "        make_folder(folder_name_step)\n",
    "\n",
    "        # Call the function to plot the time-series\n",
    "        plot_ts_realtime(file_path_images_step, time_stamp_max, file_dframe_select)\n",
    "        \n",
    "        # Group key\n",
    "        key_group = 1\n",
    "        \n",
    "        # Select section group \n",
    "        section_list_select = section_list_all[int(section_group_dict[key_group][1]):int(section_group_dict[key_group][2])]\n",
    "        # Select dataframe group\n",
    "        file_dframe_select = file_dframe_adjust[section_list_select]\n",
    "\n",
    "        # Define time-series plot filename\n",
    "        group_str = section_group_dict[key_group][0]\n",
    "        file_path_images_step = file_name_images.format(time_name=time_stamp_max.strftime('%Y%d%m_%H00'), group_name=group_str)\n",
    "        folder_name_step, file_name_step = os.path.split(file_path_images_step)\n",
    "        make_folder(folder_name_step)\n",
    "\n",
    "        # Call the function to plot the time-series\n",
    "        plot_ts_realtime(file_path_images_step, time_stamp_max, file_dframe_select)\n",
    "        \n",
    "        time.sleep(10)\n",
    "        \n",
    "    except KeyboardInterrupt:\n",
    "        break"
   ]
  },
  {
   "cell_type": "code",
   "execution_count": null,
   "metadata": {},
   "outputs": [],
   "source": []
  }
 ],
 "metadata": {
  "kernelspec": {
   "display_name": "Python 3",
   "language": "python",
   "name": "python3"
  },
  "language_info": {
   "codemirror_mode": {
    "name": "ipython",
    "version": 3
   },
   "file_extension": ".py",
   "mimetype": "text/x-python",
   "name": "python",
   "nbconvert_exporter": "python",
   "pygments_lexer": "ipython3",
   "version": "3.7.7"
  }
 },
 "nbformat": 4,
 "nbformat_minor": 4
}
