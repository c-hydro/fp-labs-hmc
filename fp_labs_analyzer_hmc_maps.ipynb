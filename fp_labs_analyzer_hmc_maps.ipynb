{
 "cells": [
  {
   "cell_type": "markdown",
   "metadata": {},
   "source": [
    "***\n",
    "# **FloodProofs Labs - HMC Training - Maps** \n",
    "\n",
    "<img style=\"float: left; padding-right: 80px; padding-left: 5px;\" src=\"img/logo_hmc.png\" width=\"200px\" align=”left” >\n",
    "\n",
    "In the laboratory of **HMC maps** we will perform the following points:\n",
    "   * Configure the libraries and the dependecies of the laboratory;\n",
    "   * Read the configuration file of the laboratory;\n",
    "   * Read the static datasets of terrain, river networks and outlet sections;\n",
    "   * Read the dynamic datasets of the maps (forcing and outcome datasets);\n",
    "   * Plot the maps of forcing variables;\n",
    "   * Plot the maps of outcome variables.    \n"
   ]
  },
  {
   "cell_type": "markdown",
   "metadata": {},
   "source": [
    "## **Import libraries and dependencies**"
   ]
  },
  {
   "cell_type": "code",
   "execution_count": 1,
   "metadata": {},
   "outputs": [
    {
     "name": "stdout",
     "output_type": "stream",
     "text": [
      " ==> Libraries loaded\n"
     ]
    }
   ],
   "source": [
    "# Notebook configuration\n",
    "%matplotlib inline\n",
    "%matplotlib widget\n",
    "\n",
    "# Noteboook extentions\n",
    "#from ipywidgets import interact, interactive, fixed, interact_manual\n",
    "#import ipywidgets as widgets\n",
    "\n",
    "#from IPython.display import Image\n",
    "#from IPython.core.display import HTML \n",
    "\n",
    "# Libraries\n",
    "import os\n",
    "import glob\n",
    "\n",
    "from library.lib_jupyter_data_io_json import read_file_settings\n",
    "from library.lib_jupyter_data_io_generic import define_file_path, define_file_template, fill_file_template, \\\n",
    "    create_darray_maps, define_file_var, create_time_range, validate_time_step, organize_file_template\n",
    "\n",
    "from library.lib_jupyter_data_geo_ascii import read_data_grid\n",
    "from library.lib_jupyter_data_geo_shapefile import read_data_section, find_data_section\n",
    "\n",
    "from library.lib_jupyter_data_io_netcdf import read_file_maps\n",
    "\n",
    "from library.lib_jupyter_plot_map import plot_map_terrain, plot_map_var\n",
    "\n",
    "# Define configuration file\n",
    "file_name_settings=\"fp_labs_analyzer_hmc_maps.json\"\n",
    "\n",
    "# Info\n",
    "print(' ==> Libraries loaded')"
   ]
  },
  {
   "cell_type": "markdown",
   "metadata": {},
   "source": [
    "\n",
    "### **Configure the flood-proofs laboratory**\n",
    "- Load the configuration file:"
   ]
  },
  {
   "cell_type": "code",
   "execution_count": 2,
   "metadata": {},
   "outputs": [
    {
     "name": "stdout",
     "output_type": "stream",
     "text": [
      " ==> Settings information loaded\n"
     ]
    }
   ],
   "source": [
    "# Read data from settings algorithm file\n",
    "settings_info = read_file_settings(file_name_settings)\n",
    "\n",
    "# Info\n",
    "print(' ==> Settings information loaded')"
   ]
  },
  {
   "cell_type": "markdown",
   "metadata": {},
   "source": [
    "- Define the static and dynamic file paths:"
   ]
  },
  {
   "cell_type": "code",
   "execution_count": 3,
   "metadata": {},
   "outputs": [],
   "source": [
    "# Define static and dynamic file path(s)\n",
    "file_path_dset_static = define_file_path(settings_info['source']['static'])\n",
    "file_path_dset_dynamic = define_file_path(settings_info['source']['dynamic'])\n",
    "file_path_dset_plot = define_file_path(settings_info['destination']['plot'])"
   ]
  },
  {
   "cell_type": "markdown",
   "metadata": {},
   "source": [
    "### **Read the static datasets**\n",
    "- Read the terrain file in ascii format"
   ]
  },
  {
   "cell_type": "code",
   "execution_count": 4,
   "metadata": {},
   "outputs": [],
   "source": [
    "# Read terrain datasets\n",
    "dset_terrain = read_data_grid(file_path_dset_static['terrain'])"
   ]
  },
  {
   "cell_type": "markdown",
   "metadata": {},
   "source": [
    "- Read the sections information in vector format"
   ]
  },
  {
   "cell_type": "code",
   "execution_count": 5,
   "metadata": {},
   "outputs": [],
   "source": [
    "# Read sections shapefile\n",
    "dset_section = read_data_section(file_path_dset_static['sections'])"
   ]
  },
  {
   "cell_type": "markdown",
   "metadata": {},
   "source": [
    "- Define the information of section, domain and time"
   ]
  },
  {
   "cell_type": "code",
   "execution_count": 6,
   "metadata": {},
   "outputs": [
    {
     "name": "stdout",
     "output_type": "stream",
     "text": [
      " ==> Time Run: 2021-01-22 06:00\n",
      " ==> Time Analysis: 2021-01-22 03:00 == Validate: True\n",
      " ==> Forcing Variables: ['Rain', 'Air_Temperature', 'Relative_Humidity']\n",
      " ==> Outcome Variables: ['SM', 'LST']\n"
     ]
    }
   ],
   "source": [
    "# Get domain, time and variables information\n",
    "info_domain = settings_info['info']['domain_name']\n",
    "info_time_run = settings_info['time']['time_run']\n",
    "info_time_analysis = settings_info['time']['time_analysis']\n",
    "info_time_range = create_time_range(\n",
    "    info_time_run,\n",
    "    time_obs_period=settings_info['time']['time_observed_period'],\n",
    "    time_obs_freq=settings_info['time']['time_observed_frequency'])\n",
    "info_var_list_forcing_obs_ws = settings_info['info']['var_list_forcing_obs_ws']\n",
    "info_var_list_outcome = settings_info['info']['var_list_outcome']\n",
    "\n",
    "# Validate time analysis\n",
    "valid_time_analysis = validate_time_step(info_time_analysis, info_time_range)\n",
    "\n",
    "# Info\n",
    "print(' ==> Time Run: ' + info_time_run)\n",
    "print(' ==> Time Analysis: ' + info_time_analysis + ' == Validate: ' + str(valid_time_analysis))\n",
    "print(' ==> Forcing Variables: ' + str(info_var_list_forcing_obs_ws))\n",
    "print(' ==> Outcome Variables: ' + str(info_var_list_outcome))"
   ]
  },
  {
   "cell_type": "markdown",
   "metadata": {},
   "source": [
    "### **Read the dynamic datasets**\n",
    "- Organize the dynamic datasets"
   ]
  },
  {
   "cell_type": "code",
   "execution_count": 7,
   "metadata": {},
   "outputs": [
    {
     "name": "stdout",
     "output_type": "stream",
     "text": [
      " ==> Organize dynamic data ... \n",
      " ===> TimeStep 2021-01-22 02:00 ... \n",
      " ===> TimeStep 2021-01-22 02:00 ... DONE\n",
      " ===> TimeStep 2021-01-22 03:00 ... \n",
      " ===> TimeStep 2021-01-22 03:00 ... DONE\n",
      " ===> TimeStep 2021-01-22 04:00 ... \n",
      " ===> TimeStep 2021-01-22 04:00 ... DONE\n",
      " ===> TimeStep 2021-01-22 05:00 ... \n",
      " ===> TimeStep 2021-01-22 05:00 ... DONE\n",
      " ===> TimeStep 2021-01-22 06:00 ... \n",
      " ===> TimeStep 2021-01-22 06:00 ... DONE\n",
      " ==> Organize dynamic data ... DONE\n"
     ]
    }
   ],
   "source": [
    "# Fill dynamic file path(s)\n",
    "file_path_dset_dynamic_collections = {}\n",
    "file_path_dset_plot_collections = {}\n",
    "\n",
    "# Info start\n",
    "print(' ==> Organize dynamic data ... ')\n",
    "for info_time_step in info_time_range:\n",
    "\n",
    "    string_time_step = info_time_step.strftime('%Y-%m-%d %H:00')\n",
    "    \n",
    "    print(' ===> TimeStep ' + string_time_step + ' ... ')\n",
    "\n",
    "    file_template_filled = define_file_template(info_time_run, info_time_step,\n",
    "                                                domain_name=info_domain, template_default=settings_info['template'])\n",
    "    file_path_dset_dynamic_filled = fill_file_template(file_path_dset_dynamic,\n",
    "                                                template_filled=file_template_filled,\n",
    "                                                template_default=settings_info['template'])\n",
    "    file_path_dset_plot_filled = fill_file_template(file_path_dset_plot,\n",
    "                                             template_filled=file_template_filled,\n",
    "                                             template_default=settings_info['template'])\n",
    "\n",
    "    file_path_dset_dynamic_collections[string_time_step] = file_path_dset_dynamic_filled\n",
    "    file_path_dset_plot_collections[string_time_step] = file_path_dset_plot_filled\n",
    "    \n",
    "    print(' ===> TimeStep ' + string_time_step + ' ... DONE')\n",
    "\n",
    "file_name_forcing_obs_ws_list, file_time_forcing_obs_ws_list = organize_file_template(\n",
    "    file_path_dset_dynamic_collections, file_dataset_tag='maps_forcing_obs_ws')\n",
    "\n",
    "file_name_outcome_list, file_time_outcome_list = organize_file_template(\n",
    "    file_path_dset_dynamic_collections, file_dataset_tag='maps_outcome')\n",
    "\n",
    "# Info end \n",
    "print(' ==> Organize dynamic data ... DONE')"
   ]
  },
  {
   "cell_type": "markdown",
   "metadata": {},
   "source": [
    "- Get the dynamic datasets"
   ]
  },
  {
   "cell_type": "code",
   "execution_count": 8,
   "metadata": {},
   "outputs": [
    {
     "name": "stdout",
     "output_type": "stream",
     "text": [
      " ==> Get dynamic data ... \n",
      " ==> Get dynamic data ... DONE\n"
     ]
    }
   ],
   "source": [
    "# Get maps of forcing and outcome datasets\n",
    "print(' ==> Get dynamic data ... ')\n",
    "\n",
    "# Forcing datasets \n",
    "dset_maps_forcing_obs_ws_collections = read_file_maps(\n",
    "    file_name_forcing_obs_ws_list, file_time_forcing_obs_ws_list,\n",
    "    file_vars_list_select=info_var_list_forcing_obs_ws)\n",
    "# Outcome datasets\n",
    "dset_maps_outcome_collections = read_file_maps(\n",
    "    file_name_outcome_list, file_time_outcome_list,\n",
    "    file_vars_list_select=info_var_list_outcome)\n",
    "\n",
    "# Info end\n",
    "print(' ==> Get dynamic data ... DONE')"
   ]
  },
  {
   "cell_type": "markdown",
   "metadata": {},
   "source": [
    "- Select the variable(s) and create the dataframe"
   ]
  },
  {
   "cell_type": "code",
   "execution_count": 9,
   "metadata": {},
   "outputs": [],
   "source": [
    "# Select variable(s) to plot maps\n",
    "darray_map_rain, attrs_map_rain = create_darray_maps(\n",
    "    dset_maps_forcing_obs_ws_collections,\n",
    "    var_time=info_time_analysis, var_name_in='Rain', var_name_out='rain')\n",
    "darray_map_airt, attrs_map_airt = create_darray_maps(\n",
    "    dset_maps_forcing_obs_ws_collections,\n",
    "    var_time=info_time_analysis, var_name_in='Air_Temperature', var_name_out='air_temperature')\n",
    "darray_map_rh, attrs_map_rh = create_darray_maps(\n",
    "    dset_maps_forcing_obs_ws_collections,\n",
    "    var_time=info_time_analysis, var_name_in='Relative_Humidity', var_name_out='relative_humidity')\n",
    "\n",
    "darray_map_sm, attrs_map_sm = create_darray_maps(\n",
    "    dset_maps_outcome_collections,\n",
    "    var_time=info_time_analysis, var_name_in='SM', var_name_out='soil_moisture')\n",
    "darray_map_lst, attrs_map_lst = create_darray_maps(\n",
    "    dset_maps_outcome_collections,\n",
    "    var_time=info_time_analysis, var_name_in='LST', var_name_out='land_surface_temperature')"
   ]
  },
  {
   "cell_type": "markdown",
   "metadata": {},
   "source": [
    "### **Plot the dynamic datasets in maps format**\n",
    "- Create the plot of the **soil moisture map**:"
   ]
  },
  {
   "cell_type": "code",
   "execution_count": 10,
   "metadata": {},
   "outputs": [
    {
     "data": {
      "application/vnd.jupyter.widget-view+json": {
       "model_id": "0632097bee7a4ba1bb7d4125e649f20a",
       "version_major": 2,
       "version_minor": 0
      },
      "text/plain": [
       "Canvas(toolbar=Toolbar(toolitems=[('Home', 'Reset original view', 'home', 'home'), ('Back', 'Back to previous …"
      ]
     },
     "metadata": {},
     "output_type": "display_data"
    }
   ],
   "source": [
    "# Plot map soil moisture\n",
    "file_name_map_sm = define_file_var(file_path_dset_plot_collections, file_time=info_time_analysis,\n",
    "                                   var_name='soil_moisture', dataset_name='maps_outcome')\n",
    "\n",
    "plot_map_var(file_name_map_sm, darray_map_sm, info_time_analysis,\n",
    "             var_name_data='soil_moisture', var_units='[-]', var_name_geo_x='Longitude', var_name_geo_y='Latitude',\n",
    "             var_limit_min=0, var_limit_max=1)\n",
    "#Image(filename = file_name_map_sm, width=1000, height=1000)"
   ]
  },
  {
   "cell_type": "markdown",
   "metadata": {},
   "source": [
    "- Create the plot of the **air temperature map**:"
   ]
  },
  {
   "cell_type": "code",
   "execution_count": 11,
   "metadata": {},
   "outputs": [
    {
     "data": {
      "application/vnd.jupyter.widget-view+json": {
       "model_id": "c55e586b2f374c10aed0ef67b516c32c",
       "version_major": 2,
       "version_minor": 0
      },
      "text/plain": [
       "Canvas(toolbar=Toolbar(toolitems=[('Home', 'Reset original view', 'home', 'home'), ('Back', 'Back to previous …"
      ]
     },
     "metadata": {},
     "output_type": "display_data"
    }
   ],
   "source": [
    "# Plot map air temperature\n",
    "file_name_map_airt = define_file_var(file_path_dset_plot_collections, file_time=info_time_analysis,\n",
    "                                     var_name='air_temperature', dataset_name='maps_forcing_obs_ws')\n",
    "plot_map_var(file_name_map_airt, darray_map_airt, info_time_analysis,\n",
    "             var_name_data='air_temperature', var_units='[C]', var_name_geo_x='longitude', var_name_geo_y='latitude')\n",
    "#Image(filename = file_name_map_airt, width=1000, height=1000)"
   ]
  },
  {
   "cell_type": "markdown",
   "metadata": {},
   "source": [
    "- Create the plots of the **air temperature maps** for the defined period:"
   ]
  },
  {
   "cell_type": "code",
   "execution_count": 12,
   "metadata": {},
   "outputs": [],
   "source": [
    "# Noteboook configuration\n",
    "%matplotlib inline\n",
    "\n",
    "from ipywidgets import interact, interactive, fixed, interact_manual\n",
    "import ipywidgets as widgets\n",
    "\n",
    "from IPython.display import Image"
   ]
  },
  {
   "cell_type": "code",
   "execution_count": 16,
   "metadata": {},
   "outputs": [
    {
     "name": "stdout",
     "output_type": "stream",
     "text": [
      " ==> Iterate over dynamic data ... \n",
      " ===> TimeStep 2021-01-22 02:00 ... \n",
      " ===> TimeStep 2021-01-22 02:00 ... DONE\n",
      " ===> TimeStep 2021-01-22 03:00 ... \n",
      " ===> TimeStep 2021-01-22 03:00 ... DONE\n",
      " ===> TimeStep 2021-01-22 04:00 ... \n",
      " ===> TimeStep 2021-01-22 04:00 ... DONE\n",
      " ===> TimeStep 2021-01-22 05:00 ... \n",
      " ===> TimeStep 2021-01-22 05:00 ... DONE\n",
      " ===> TimeStep 2021-01-22 06:00 ... \n",
      " ===> TimeStep 2021-01-22 06:00 ... DONE\n",
      " ==> Iterate over dynamic data ... DONE\n"
     ]
    }
   ],
   "source": [
    "\n",
    "# Iterate over selected period to plot all images\n",
    "file_path_collections = {}\n",
    "\n",
    "# Info start\n",
    "print(' ==> Iterate over dynamic data ... ')\n",
    "for info_time_step in info_time_range:\n",
    "\n",
    "    string_time_step = info_time_step.strftime('%Y-%m-%d %H:00')\n",
    "    \n",
    "    print(' ===> TimeStep ' + string_time_step + ' ... ')\n",
    "    \n",
    "    file_template_filled = define_file_template(info_time_run, info_time_step,\n",
    "                                                domain_name=info_domain, template_default=settings_info['template'])\n",
    "    file_path_dset_plot_filled = fill_file_template(file_path_dset_plot,\n",
    "                                                template_filled=file_template_filled,\n",
    "                                                template_default=settings_info['template'])\n",
    "    \n",
    "    darray_map_airt, attrs_map_airt = create_darray_maps(dset_maps_forcing_obs_ws_collections,\n",
    "    var_time=string_time_step, var_name_in='Air_Temperature', var_name_out='air_temperature')\n",
    "    \n",
    "    file_path_collections[string_time_step] = file_path_dset_plot_filled\n",
    "    file_path_map = define_file_var(file_path_collections, file_time=string_time_step,\n",
    "                                    var_name='air_temperature', dataset_name='maps_forcing_obs_ws')\n",
    "    \n",
    "    plot_map_var(file_path_map, darray_map_airt, string_time_step,\n",
    "             var_name_data='air_temperature', var_units='[C]', var_name_geo_x='longitude', var_name_geo_y='latitude',\n",
    "                fig_show=False)\n",
    "\n",
    "    print(' ===> TimeStep ' + string_time_step + ' ... DONE')\n",
    "\n",
    "folder_name_map, file_name_map = os.path.split(file_path_map)\n",
    "string_list_map = os.path.join(folder_name_map, '*' + 'air_temperature' + '*')\n",
    "file_list_map = glob.glob(string_list_map)\n",
    "\n",
    "# Info end\n",
    "print(' ==> Iterate over dynamic data ... DONE')"
   ]
  },
  {
   "cell_type": "code",
   "execution_count": 17,
   "metadata": {},
   "outputs": [
    {
     "data": {
      "application/vnd.jupyter.widget-view+json": {
       "model_id": "d8811e5e3a744d0bbc0377692e123abf",
       "version_major": 2,
       "version_minor": 0
      },
      "text/plain": [
       "interactive(children=(Dropdown(description='file', options=('/home/fabio/fp_labs_datasets/images/hmc.forcing_a…"
      ]
     },
     "metadata": {},
     "output_type": "display_data"
    }
   ],
   "source": [
    "# Search files and order in descending mode\n",
    "file_list = glob.glob(os.path.join(folder_name_map, '*air_temperature*'))\n",
    "file_list.sort(reverse=True)\n",
    "@interact\n",
    "def show_images(file=file_list):\n",
    "    display(Image(file,  width=750, height=750))"
   ]
  },
  {
   "cell_type": "markdown",
   "metadata": {},
   "source": [
    "**Training on-the-job**"
   ]
  },
  {
   "cell_type": "code",
   "execution_count": null,
   "metadata": {},
   "outputs": [],
   "source": []
  },
  {
   "cell_type": "code",
   "execution_count": null,
   "metadata": {},
   "outputs": [],
   "source": [
    "\n"
   ]
  },
  {
   "cell_type": "code",
   "execution_count": null,
   "metadata": {},
   "outputs": [],
   "source": []
  },
  {
   "cell_type": "code",
   "execution_count": null,
   "metadata": {},
   "outputs": [],
   "source": []
  }
 ],
 "metadata": {
  "kernelspec": {
   "display_name": "Python 3",
   "language": "python",
   "name": "python3"
  },
  "language_info": {
   "codemirror_mode": {
    "name": "ipython",
    "version": 3
   },
   "file_extension": ".py",
   "mimetype": "text/x-python",
   "name": "python",
   "nbconvert_exporter": "python",
   "pygments_lexer": "ipython3",
   "version": "3.7.7"
  }
 },
 "nbformat": 4,
 "nbformat_minor": 4
}
