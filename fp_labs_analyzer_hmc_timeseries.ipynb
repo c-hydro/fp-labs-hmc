{
 "cells": [
  {
   "cell_type": "markdown",
   "metadata": {},
   "source": [
    "***\n",
    "# **FloodProofs Labs - HMC Training - TimeSeries Analyzer** \n",
    "\n",
    "<img style=\"float: left; padding-right: 80px; padding-left: 5px;\" src=\"img/logo_hmc.png\" width=\"200px\" align=”left” >\n",
    "\n",
    "In the laboratory of **HMC time-series** we will perform the following points:\n",
    "   * Configure the libraries and the dependecies of the laboratory;\n",
    "   * Read the configuration file of the laboratory;\n",
    "   * Read the static datasets of terrain, river networks and outlet sections;\n",
    "   * Select the 'time run' and the 'outlet section' to perform the time-series analysis;\n",
    "   * Read the dynamic datasets of the time-series (collections and hydrographs);\n",
    "   * Plot the position of the analyzed outlet section;\n",
    "   * Plot the time-series of discharge and the time-series of the hmc average forcings.    \n"
   ]
  },
  {
   "cell_type": "markdown",
   "metadata": {},
   "source": [
    "## **Import libraries and dependencies**"
   ]
  },
  {
   "cell_type": "code",
   "execution_count": 1,
   "metadata": {},
   "outputs": [
    {
     "name": "stdout",
     "output_type": "stream",
     "text": [
      " ==> Libraries loaded\n"
     ]
    }
   ],
   "source": [
    "%matplotlib inline\n",
    "%matplotlib widget\n",
    "\n",
    "# Libraries\n",
    "from library.jupyter_generic.lib_jupyter_data_io_json import read_file_settings, read_file_ts_hydrograph\n",
    "from library.jupyter_generic.lib_jupyter_data_io_generic import define_file_path, define_file_template, \\\n",
    "    fill_file_template, create_dframe_ts, get_path_root, get_path_folders, get_folders_time\n",
    "\n",
    "from library.jupyter_generic.lib_jupyter_data_geo_ascii import read_data_grid\n",
    "from library.jupyter_generic.lib_jupyter_data_geo_shapefile import read_data_section, find_data_section\n",
    "\n",
    "from library.jupyter_generic.lib_jupyter_data_io_netcdf import read_file_ts_collections\n",
    "\n",
    "from library.jupyter_generic.lib_jupyter_plot_ts import plot_ts_discharge, plot_ts_forcing\n",
    "from library.jupyter_generic.lib_jupyter_plot_map import plot_map_terrain\n",
    "\n",
    "import ipywidgets as widgets\n",
    "from ipywidgets import interact, interact_manual\n",
    "\n",
    "# Define configuration file\n",
    "file_name_settings=\"fp_labs_analyzer_hmc_timeseries.json\"\n",
    "\n",
    "# Info\n",
    "print(' ==> Libraries loaded')"
   ]
  },
  {
   "cell_type": "markdown",
   "metadata": {},
   "source": [
    "### **Configure the flood-proofs laboratory**\n",
    "- Load the configuration file:"
   ]
  },
  {
   "cell_type": "code",
   "execution_count": 2,
   "metadata": {},
   "outputs": [
    {
     "name": "stdout",
     "output_type": "stream",
     "text": [
      " ==> Settings information loaded\n"
     ]
    }
   ],
   "source": [
    "# Read data from settings algorithm file\n",
    "settings_info = read_file_settings(file_name_settings)\n",
    "\n",
    "# Info\n",
    "print(' ==> Settings information loaded')"
   ]
  },
  {
   "cell_type": "markdown",
   "metadata": {},
   "source": [
    "- Define the static and dynamic file paths:"
   ]
  },
  {
   "cell_type": "code",
   "execution_count": 3,
   "metadata": {},
   "outputs": [],
   "source": [
    "# Define static and dynamic file path(s)\n",
    "file_path_dset_static = define_file_path(settings_info['source']['static'])\n",
    "file_path_dset_dynamic = define_file_path(settings_info['source']['dynamic'])\n",
    "file_path_dset_plot = define_file_path(settings_info['destination']['plot'])"
   ]
  },
  {
   "cell_type": "code",
   "execution_count": 4,
   "metadata": {},
   "outputs": [],
   "source": [
    "# Define dynamic path root\n",
    "file_path_dynamic_root = get_path_root(list(file_path_dset_dynamic.values())[0])"
   ]
  },
  {
   "cell_type": "code",
   "execution_count": 5,
   "metadata": {},
   "outputs": [],
   "source": [
    "# Define list of available folders\n",
    "list_folder_dynamic_root = get_path_folders(file_path_dynamic_root)"
   ]
  },
  {
   "cell_type": "markdown",
   "metadata": {},
   "source": [
    "### **Read the static datasets**\n",
    "- Read the terrain and river networks files in ascii format"
   ]
  },
  {
   "cell_type": "code",
   "execution_count": 6,
   "metadata": {},
   "outputs": [],
   "source": [
    "# Read terrain datasets\n",
    "darray_terrain = read_data_grid(file_path_dset_static['terrain'], var_limit_min=0, var_limit_max=None)"
   ]
  },
  {
   "cell_type": "code",
   "execution_count": 7,
   "metadata": {},
   "outputs": [],
   "source": [
    "# Read river network datasets\n",
    "darray_river_network = read_data_grid(file_path_dset_static['river_network'], var_limit_min=0, var_limit_max=1)"
   ]
  },
  {
   "cell_type": "markdown",
   "metadata": {},
   "source": [
    "- Read the sections information in vector format"
   ]
  },
  {
   "cell_type": "code",
   "execution_count": 8,
   "metadata": {},
   "outputs": [],
   "source": [
    "# Read sections shapefile\n",
    "dset_section = read_data_section(file_path_dset_static['sections'])\n",
    "\n",
    "# Define outlet sections list\n",
    "outlet_section_list = ['_'.join([sec_domain, sec_name]) for sec_name, sec_domain in zip(dset_section['section_name'], dset_section['section_domain'])] "
   ]
  },
  {
   "cell_type": "markdown",
   "metadata": {},
   "source": [
    "### **Select the \"time run\" and the \"outlet section\"**\n",
    "- Select the time run to perform the time-series analysis"
   ]
  },
  {
   "cell_type": "code",
   "execution_count": 9,
   "metadata": {},
   "outputs": [],
   "source": [
    "# Define list of available runs based on folders name\n",
    "time_dynamic_list = get_folders_time(list_folder_dynamic_root)"
   ]
  },
  {
   "cell_type": "code",
   "execution_count": 10,
   "metadata": {},
   "outputs": [
    {
     "data": {
      "application/vnd.jupyter.widget-view+json": {
       "model_id": "b8d0149ea93940f081500bfe920708e5",
       "version_major": 2,
       "version_minor": 0
      },
      "text/plain": [
       "Select(description='Time Run', options=('2021-01-22 06:00',), value='2021-01-22 06:00')"
      ]
     },
     "metadata": {},
     "output_type": "display_data"
    }
   ],
   "source": [
    "# Display available time run\n",
    "time_run_selection = widgets.Select(options=time_dynamic_list, description='Time Run', disabled=False)\n",
    "display(time_run_selection)  "
   ]
  },
  {
   "cell_type": "code",
   "execution_count": 11,
   "metadata": {},
   "outputs": [
    {
     "name": "stdout",
     "output_type": "stream",
     "text": [
      " ==> Time Run: 2021-01-22 06:00\n"
     ]
    }
   ],
   "source": [
    "# Parser the selection from the scroll menu\n",
    "time_run_value = time_run_selection.value\n",
    "\n",
    "# Set time run in the setting info object\n",
    "settings_info['time_run'] = time_run_value\n",
    "\n",
    "# Info time run\n",
    "print(' ==> Time Run: ' + settings_info['time_run'] )"
   ]
  },
  {
   "cell_type": "markdown",
   "metadata": {},
   "source": [
    "- Select the outlet section to perform the time-series analysis"
   ]
  },
  {
   "cell_type": "code",
   "execution_count": 12,
   "metadata": {},
   "outputs": [
    {
     "data": {
      "application/vnd.jupyter.widget-view+json": {
       "model_id": "8d9f90ed681d42bd8bef164d9a4dab15",
       "version_major": 2,
       "version_minor": 0
      },
      "text/plain": [
       "Select(description='Outlet Sections', options=('Foglia_Foglia3', 'Foglia_Montecchio', 'Foglia_Bronzo', 'Arzill…"
      ]
     },
     "metadata": {},
     "output_type": "display_data"
    }
   ],
   "source": [
    "# Display available outlet sections\n",
    "outlet_sections_selection = widgets.Select(options=outlet_section_list, description='Outlet Sections', disabled=False)\n",
    "display(outlet_sections_selection)   "
   ]
  },
  {
   "cell_type": "code",
   "execution_count": 13,
   "metadata": {},
   "outputs": [
    {
     "name": "stdout",
     "output_type": "stream",
     "text": [
      " ==> SectionName: Aspio2 -- BasinName: Aspio\n"
     ]
    }
   ],
   "source": [
    "# Parser the selection from the scroll menu\n",
    "outlet_section_value = outlet_sections_selection.value\n",
    "basin_name, section_name = outlet_section_value.split('_')\n",
    "\n",
    "# Set section name and basin in the setting info object\n",
    "settings_info['info']['section_name'] = section_name\n",
    "settings_info['info']['basin_name'] = basin_name\n",
    "\n",
    "# Info section\n",
    "print(' ==> SectionName: ' + settings_info['info']['section_name'] + ' -- BasinName: ' + settings_info['info']['basin_name'] )"
   ]
  },
  {
   "cell_type": "markdown",
   "metadata": {},
   "source": [
    "- Define the information of section, domain and time"
   ]
  },
  {
   "cell_type": "code",
   "execution_count": 14,
   "metadata": {},
   "outputs": [
    {
     "name": "stdout",
     "output_type": "stream",
     "text": [
      " ==> SectionName: Aspio2 -- BasinName: Aspio -- TimeRun: 2021-01-22 06:00\n"
     ]
    }
   ],
   "source": [
    "# Get domain, section and time information\n",
    "info_section = find_data_section(dset_section, section_name=settings_info['info']['section_name'],\n",
    "                                 basin_name=settings_info['info']['basin_name'])\n",
    "info_domain = settings_info['info']['domain_name']\n",
    "info_time_run = settings_info['time_run']\n",
    "\n",
    "# Fill dynamic file path(s)\n",
    "file_template_filled = define_file_template(\n",
    "    info_time_run, section_name=info_section['section_name'], basin_name=info_section['basin_name'],\n",
    "    domain_name=info_domain, template_default=settings_info['template'])\n",
    "file_path_dset_dynamic = fill_file_template(file_path_dset_dynamic,\n",
    "                                            template_filled=file_template_filled,\n",
    "                                            template_default=settings_info['template'])\n",
    "file_path_dset_plot = fill_file_template(file_path_dset_plot,\n",
    "                                         template_filled=file_template_filled,\n",
    "                                         template_default=settings_info['template'])\n",
    "# Info\n",
    "print(' ==> SectionName: ' + info_section['section_name'] + ' -- BasinName: ' + info_section['basin_name'] + ' -- TimeRun: ' + info_time_run)"
   ]
  },
  {
   "cell_type": "markdown",
   "metadata": {},
   "source": [
    "### **Read the dynamic datasets**\n",
    "- Read the collections file in netcdf format"
   ]
  },
  {
   "cell_type": "code",
   "execution_count": 15,
   "metadata": {},
   "outputs": [
    {
     "name": "stdout",
     "output_type": "stream",
     "text": [
      " ==> Collections dynamic file /home/fabio/fp_labs_datasets/data_dynamic/20210122_06/data_archive/collections/hmc.collections.202101220600.nc... LOADED\n"
     ]
    }
   ],
   "source": [
    "# Read the collections file \n",
    "dframe_ts_cls, attrs_ts_cls = read_file_ts_collections(file_path_dset_dynamic['time_series_collections'])\n",
    "# Info\n",
    "print(' ==> Collections dynamic file ' + file_path_dset_dynamic['time_series_collections'] + '... LOADED')"
   ]
  },
  {
   "cell_type": "markdown",
   "metadata": {},
   "source": [
    "- Read the hydrograph file in json format"
   ]
  },
  {
   "cell_type": "code",
   "execution_count": 16,
   "metadata": {},
   "outputs": [
    {
     "name": "stdout",
     "output_type": "stream",
     "text": [
      " ==> Hydrograph dynamic file /home/fabio/fp_labs_datasets/data_dynamic/20210122_06/data_archive/collections/hydrograph_Aspio2_Aspio_202101220600.json ... LOADED\n"
     ]
    }
   ],
   "source": [
    "# Read the hydrograph file\n",
    "dframe_ts_cls, attrs_cls = read_file_ts_collections(file_path_dset_dynamic['time_series_collections'])\n",
    "dframe_ts_hydro, attrs_ts = read_file_ts_hydrograph(file_path_dset_dynamic['time_series_hydrograph'])\n",
    "# Info\n",
    "print(' ==> Hydrograph dynamic file ' + file_path_dset_dynamic['time_series_hydrograph'] + ' ... LOADED')"
   ]
  },
  {
   "cell_type": "markdown",
   "metadata": {},
   "source": [
    "- Select the variable(s) and create the dataframe"
   ]
  },
  {
   "cell_type": "code",
   "execution_count": 17,
   "metadata": {},
   "outputs": [],
   "source": [
    "# Select output variable(s) to plot time-series\n",
    "dframe_ts_discharge_obs = create_dframe_ts(dframe_ts_hydro, var_name_in='discharge_observed', var_name_out='discharge_observed')\n",
    "dframe_ts_discharge_sim = create_dframe_ts(dframe_ts_hydro, var_name_in='discharge_simulated', var_name_out='discharge_simulated')\n",
    "dframe_ts_rain = create_dframe_ts(dframe_ts_cls, var_name_in='rain', var_name_out='rain')\n",
    "dframe_ts_sm = create_dframe_ts(dframe_ts_cls, var_name_in='soil_moisture', var_name_out='soil_moisture')\n",
    "\n",
    "# Select forcing variable(s) to plot time-series\n",
    "dframe_ts_airt = create_dframe_ts(dframe_ts_cls, var_name_in='air_temperature', var_name_out='air_temperature')\n",
    "dframe_ts_incrad = create_dframe_ts(dframe_ts_cls, var_name_in='incoming_radiation', var_name_out='incoming_radiation')\n",
    "dframe_ts_rh = create_dframe_ts(dframe_ts_cls, var_name_in='relative_humidity', var_name_out='relative_humidity')\n",
    "dframe_ts_wind = create_dframe_ts(dframe_ts_cls, var_name_in='wind', var_name_out='wind')"
   ]
  },
  {
   "cell_type": "markdown",
   "metadata": {},
   "source": [
    "### **Plot the dynamic datasets in time-series format**\n",
    "- Create the plot for analyzing the hmc discharges output"
   ]
  },
  {
   "cell_type": "code",
   "execution_count": 18,
   "metadata": {},
   "outputs": [
    {
     "data": {
      "application/vnd.jupyter.widget-view+json": {
       "model_id": "f2c8ce600cbe49e7b6dd20bd01d924a9",
       "version_major": 2,
       "version_minor": 0
      },
      "text/plain": [
       "Canvas(toolbar=Toolbar(toolitems=[('Home', 'Reset original view', 'home', 'home'), ('Back', 'Back to previous …"
      ]
     },
     "metadata": {},
     "output_type": "display_data"
    }
   ],
   "source": [
    "# Plot ts discharge\n",
    "file_name_ts_discharge = file_path_dset_plot['time_series_discharge']\n",
    "plot_ts_discharge(file_name_ts_discharge, dframe_ts_discharge_sim, attrs_ts,\n",
    "                  df_discharge_obs=dframe_ts_discharge_obs, df_rain=dframe_ts_rain,\n",
    "                  df_soil_moisture=dframe_ts_sm)"
   ]
  },
  {
   "cell_type": "markdown",
   "metadata": {},
   "source": [
    "- Create the plot for analyzing the hmc forcing datasets"
   ]
  },
  {
   "cell_type": "code",
   "execution_count": 19,
   "metadata": {},
   "outputs": [
    {
     "data": {
      "application/vnd.jupyter.widget-view+json": {
       "model_id": "7a5a8f6a58324ecca244b41054537e9d",
       "version_major": 2,
       "version_minor": 0
      },
      "text/plain": [
       "Canvas(toolbar=Toolbar(toolitems=[('Home', 'Reset original view', 'home', 'home'), ('Back', 'Back to previous …"
      ]
     },
     "metadata": {},
     "output_type": "display_data"
    }
   ],
   "source": [
    "# Plot ts forcing\n",
    "file_name_ts_forcing = file_path_dset_plot['time_series_forcing']\n",
    "plot_ts_forcing(file_name_ts_forcing,\n",
    "                df_rain=dframe_ts_rain, df_airt=dframe_ts_airt, df_incrad=dframe_ts_incrad,\n",
    "                df_rh=dframe_ts_rh, df_winds=dframe_ts_wind,\n",
    "                attrs_forcing=attrs_ts)"
   ]
  },
  {
   "cell_type": "code",
   "execution_count": 20,
   "metadata": {},
   "outputs": [
    {
     "data": {
      "application/vnd.jupyter.widget-view+json": {
       "model_id": "e38cbd861cea46e98840612c02771f89",
       "version_major": 2,
       "version_minor": 0
      },
      "text/plain": [
       "Canvas(toolbar=Toolbar(toolitems=[('Home', 'Reset original view', 'home', 'home'), ('Back', 'Back to previous …"
      ]
     },
     "metadata": {},
     "output_type": "display_data"
    }
   ],
   "source": [
    "# Plot map terrain with section\n",
    "file_name_section_locator = file_path_dset_plot['section_locator']\n",
    "plot_map_terrain(file_name_section_locator, darray_terrain, darray_river_network, info_section,\n",
    "                 mask_terrain=True)"
   ]
  },
  {
   "cell_type": "markdown",
   "metadata": {},
   "source": [
    "**Training on-the-job**\n",
    "- Download/Organize the static and dynamic datasets for a different \"time run\";\n",
    "- Select a different case-study (time run);\n",
    "- Select a different outlet section (section name, basin name);\n",
    "- Add/change the variables in the time-series plot (have to check the names of the variables in the netcdf forcing or outcome files);\n",
    "- Add/change the plot of terrain datasets (for example using a different map background);\n",
    "- ..."
   ]
  },
  {
   "cell_type": "code",
   "execution_count": null,
   "metadata": {},
   "outputs": [],
   "source": []
  }
 ],
 "metadata": {
  "kernelspec": {
   "display_name": "Python 3",
   "language": "python",
   "name": "python3"
  },
  "language_info": {
   "codemirror_mode": {
    "name": "ipython",
    "version": 3
   },
   "file_extension": ".py",
   "mimetype": "text/x-python",
   "name": "python",
   "nbconvert_exporter": "python",
   "pygments_lexer": "ipython3",
   "version": "3.7.7"
  }
 },
 "nbformat": 4,
 "nbformat_minor": 4
}
