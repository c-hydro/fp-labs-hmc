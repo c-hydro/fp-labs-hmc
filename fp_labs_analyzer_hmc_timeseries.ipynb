{
 "cells": [
  {
   "cell_type": "markdown",
   "metadata": {},
   "source": [
    "***\n",
    "# **FloodProofs Labs - HMC Training - TimeSeries** \n",
    "\n",
    "<img style=\"float: left; padding-right: 80px; padding-left: 5px;\" src=\"img/logo_hmc.png\" width=\"200px\" align=”left” >\n",
    "\n",
    "In the laboratory of **HMC time-series** we will perform the following points:\n",
    "   * Configure the libraries and the dependecies of the laboratory;\n",
    "   * Read the configuration file of the laboratory;\n",
    "   * Read the static datasets of terrain, river networks and outlet sections;\n",
    "   * Read the dynamic datasets of the time-series (collections and hydrographs);\n",
    "   * Plot the position of the analyzed outlet section;\n",
    "   * Plot the time-series of discharge and the time-series of the hmc average forcings.    \n"
   ]
  },
  {
   "cell_type": "markdown",
   "metadata": {},
   "source": [
    "## **Import libraries and dependencies**"
   ]
  },
  {
   "cell_type": "code",
   "execution_count": 1,
   "metadata": {},
   "outputs": [
    {
     "name": "stdout",
     "output_type": "stream",
     "text": [
      " ==> Libraries loaded\n"
     ]
    }
   ],
   "source": [
    "%matplotlib inline\n",
    "%matplotlib widget\n",
    "\n",
    "# Libraries\n",
    "from library.lib_jupyter_data_io_json import read_file_settings, read_file_ts_hydrograph\n",
    "from library.lib_jupyter_data_io_generic import define_file_path, define_file_template, fill_file_template, create_dframe_ts\n",
    "\n",
    "from library.lib_jupyter_data_geo_ascii import read_data_grid\n",
    "from library.lib_jupyter_data_geo_shapefile import read_data_section, find_data_section\n",
    "\n",
    "from library.lib_jupyter_data_io_netcdf import read_file_ts_collections\n",
    "\n",
    "from library.lib_jupyter_plot_ts import plot_ts_discharge, plot_ts_forcing\n",
    "\n",
    "# Define configuration file\n",
    "file_name_settings=\"fp_labs_analyzer_hmc_timeseries.json\"\n",
    "\n",
    "# Info\n",
    "print(' ==> Libraries loaded')"
   ]
  },
  {
   "cell_type": "markdown",
   "metadata": {},
   "source": [
    "### **Configure the flood-proofs laboratory**\n",
    "- Load the configuration file:"
   ]
  },
  {
   "cell_type": "code",
   "execution_count": 2,
   "metadata": {},
   "outputs": [],
   "source": [
    "# Read data from settings algorithm file\n",
    "settings_info = read_file_settings(file_name_settings)"
   ]
  },
  {
   "cell_type": "markdown",
   "metadata": {},
   "source": [
    "- Define the static and dynamic file paths:"
   ]
  },
  {
   "cell_type": "code",
   "execution_count": 3,
   "metadata": {},
   "outputs": [],
   "source": [
    "# Define static and dynamic file path(s)\n",
    "file_path_dset_static = define_file_path(settings_info['source']['static'])\n",
    "file_path_dset_dynamic = define_file_path(settings_info['source']['dynamic'])\n",
    "file_path_dset_plot = define_file_path(settings_info['destination']['plot'])"
   ]
  },
  {
   "cell_type": "markdown",
   "metadata": {},
   "source": [
    "### **Read the static datasets**\n",
    "- Read the terrain and river networks files in ascii format"
   ]
  },
  {
   "cell_type": "code",
   "execution_count": 4,
   "metadata": {},
   "outputs": [],
   "source": [
    "# Read terrain datasets\n",
    "dset_terrain = read_data_grid(file_path_dset_static['terrain'])"
   ]
  },
  {
   "cell_type": "code",
   "execution_count": 5,
   "metadata": {},
   "outputs": [],
   "source": [
    "# Read river network datasets\n",
    "darray_river_network = read_data_grid(file_path_dset_static['river_network'], var_limit_min=0, var_limit_max=1)"
   ]
  },
  {
   "cell_type": "markdown",
   "metadata": {},
   "source": [
    "- Read the sections information in vector format"
   ]
  },
  {
   "cell_type": "code",
   "execution_count": 6,
   "metadata": {},
   "outputs": [],
   "source": [
    "# Read sections shapefile\n",
    "dset_section = read_data_section(file_path_dset_static['sections'])"
   ]
  },
  {
   "cell_type": "markdown",
   "metadata": {},
   "source": [
    "- Define the information of section, domain and time"
   ]
  },
  {
   "cell_type": "code",
   "execution_count": 7,
   "metadata": {},
   "outputs": [
    {
     "name": "stdout",
     "output_type": "stream",
     "text": [
      " ==> SectionName: Tronto -- BasinName: Tronto -- TimeRun: 2021-01-22 06:00\n"
     ]
    }
   ],
   "source": [
    "# Get domain, section and time information\n",
    "info_section = find_data_section(dset_section, section_name=settings_info['info']['section_name'],\n",
    "                                 basin_name=settings_info['info']['basin_name'])\n",
    "info_domain = settings_info['info']['domain_name']\n",
    "info_time_run = settings_info['time_run']\n",
    "\n",
    "# Fill dynamic file path(s)\n",
    "file_template_filled = define_file_template(\n",
    "    info_time_run, section_name=info_section['section_name'], basin_name=info_section['section_domain'],\n",
    "    domain_name=info_domain, template_default=settings_info['template'])\n",
    "file_path_dset_dynamic = fill_file_template(file_path_dset_dynamic,\n",
    "                                            template_filled=file_template_filled,\n",
    "                                            template_default=settings_info['template'])\n",
    "file_path_dset_plot = fill_file_template(file_path_dset_plot,\n",
    "                                         template_filled=file_template_filled,\n",
    "                                         template_default=settings_info['template'])\n",
    "# Info\n",
    "print(' ==> SectionName: ' + info_section['section_name'] + ' -- BasinName: ' + info_section['section_domain'] + ' -- TimeRun: ' + info_time_run)"
   ]
  },
  {
   "cell_type": "markdown",
   "metadata": {},
   "source": [
    "### **Read the dynamic datasets**\n",
    "- Read the collections file in netcdf format"
   ]
  },
  {
   "cell_type": "code",
   "execution_count": 8,
   "metadata": {},
   "outputs": [
    {
     "name": "stdout",
     "output_type": "stream",
     "text": [
      " ==> Collections dynamic file /home/fabio/fp_labs_datasets/data_dynamic/20210122_06/data_archive/collections/hmc.collections.202101220600.nc... LOADED\n"
     ]
    }
   ],
   "source": [
    "# Read the collections file \n",
    "dframe_ts_cls, attrs_ts_cls = read_file_ts_collections(file_path_dset_dynamic['time_series_collections'])\n",
    "# Info\n",
    "print(' ==> Collections dynamic file ' + file_path_dset_dynamic['time_series_collections'] + '... LOADED')"
   ]
  },
  {
   "cell_type": "markdown",
   "metadata": {},
   "source": [
    "- Read the hydrograph file in json format"
   ]
  },
  {
   "cell_type": "code",
   "execution_count": 9,
   "metadata": {},
   "outputs": [
    {
     "name": "stdout",
     "output_type": "stream",
     "text": [
      " ==> Hydrograph dynamic file /home/fabio/fp_labs_datasets/data_dynamic/20210122_06/data_archive/collections/hydrograph_Tronto_Tronto_202101220600.json ... LOADED\n"
     ]
    }
   ],
   "source": [
    "# Read the hydrograph file\n",
    "dframe_ts_cls, attrs_cls = read_file_ts_collections(file_path_dset_dynamic['time_series_collections'])\n",
    "dframe_ts_hydro, attrs_ts = read_file_ts_hydrograph(file_path_dset_dynamic['time_series_hydrograph'])\n",
    "# Info\n",
    "print(' ==> Hydrograph dynamic file ' + file_path_dset_dynamic['time_series_hydrograph'] + ' ... LOADED')"
   ]
  },
  {
   "cell_type": "markdown",
   "metadata": {},
   "source": [
    "- Select the variable(s) and create the dataframe"
   ]
  },
  {
   "cell_type": "code",
   "execution_count": 10,
   "metadata": {},
   "outputs": [],
   "source": [
    "# Select output variable(s) to plot time-series\n",
    "dframe_ts_discharge_obs = create_dframe_ts(dframe_ts_hydro, var_name_in='discharge_observed', var_name_out='discharge_observed')\n",
    "dframe_ts_discharge_sim = create_dframe_ts(dframe_ts_hydro, var_name_in='discharge_simulated', var_name_out='discharge_simulated')\n",
    "dframe_ts_rain = create_dframe_ts(dframe_ts_cls, var_name_in='rain', var_name_out='rain')\n",
    "dframe_ts_sm = create_dframe_ts(dframe_ts_cls, var_name_in='soil_moisture', var_name_out='soil_moisture')\n",
    "\n",
    "# Select forcing variable(s) to plot time-series\n",
    "dframe_ts_airt = create_dframe_ts(dframe_ts_cls, var_name_in='air_temperature', var_name_out='air_temperature')\n",
    "dframe_ts_incrad = create_dframe_ts(dframe_ts_cls, var_name_in='incoming_radiation', var_name_out='incoming_radiation')\n",
    "dframe_ts_rh = create_dframe_ts(dframe_ts_cls, var_name_in='relative_humidity', var_name_out='relative_humidity')\n",
    "dframe_ts_wind = create_dframe_ts(dframe_ts_cls, var_name_in='wind', var_name_out='wind')"
   ]
  },
  {
   "cell_type": "markdown",
   "metadata": {},
   "source": [
    "### **Plot the dynamic datasets in time-series format**\n",
    "- Create the plot for analyzing the hmc discharges output"
   ]
  },
  {
   "cell_type": "code",
   "execution_count": 11,
   "metadata": {},
   "outputs": [
    {
     "data": {
      "application/vnd.jupyter.widget-view+json": {
       "model_id": "98b15c99666b47e38207199b283d5e69",
       "version_major": 2,
       "version_minor": 0
      },
      "text/plain": [
       "Canvas(toolbar=Toolbar(toolitems=[('Home', 'Reset original view', 'home', 'home'), ('Back', 'Back to previous …"
      ]
     },
     "metadata": {},
     "output_type": "display_data"
    }
   ],
   "source": [
    "file_name_ts = '/home/fabio/Desktop/PyCharm_Workspace/fp-labs-master/hmc/img/test_ts.png'\n",
    "plot_ts_discharge(file_name_ts, dframe_ts_discharge_sim, attrs_ts,\n",
    "                  df_discharge_obs=dframe_ts_discharge_obs, df_rain=dframe_ts_rain, df_soil_moisture=dframe_ts_sm)"
   ]
  },
  {
   "cell_type": "markdown",
   "metadata": {},
   "source": [
    "- Create the plot for analyzing the hmc forcing datasets"
   ]
  },
  {
   "cell_type": "code",
   "execution_count": 12,
   "metadata": {},
   "outputs": [
    {
     "data": {
      "application/vnd.jupyter.widget-view+json": {
       "model_id": "91b93547a2284092b154c4afc3ea002d",
       "version_major": 2,
       "version_minor": 0
      },
      "text/plain": [
       "Canvas(toolbar=Toolbar(toolitems=[('Home', 'Reset original view', 'home', 'home'), ('Back', 'Back to previous …"
      ]
     },
     "metadata": {},
     "output_type": "display_data"
    }
   ],
   "source": [
    "# Plot ts forcing\n",
    "file_name_ts_forcing = file_path_dset_plot['time_series_forcing']\n",
    "plot_ts_forcing(file_name_ts_forcing,\n",
    "                df_rain=dframe_ts_rain, df_airt=dframe_ts_airt, df_incrad=dframe_ts_incrad,\n",
    "                df_rh=dframe_ts_rh, df_winds=dframe_ts_wind,\n",
    "                attrs_forcing=attrs_ts)"
   ]
  },
  {
   "cell_type": "code",
   "execution_count": null,
   "metadata": {},
   "outputs": [],
   "source": []
  }
 ],
 "metadata": {
  "kernelspec": {
   "display_name": "Python 3",
   "language": "python",
   "name": "python3"
  },
  "language_info": {
   "codemirror_mode": {
    "name": "ipython",
    "version": 3
   },
   "file_extension": ".py",
   "mimetype": "text/x-python",
   "name": "python",
   "nbconvert_exporter": "python",
   "pygments_lexer": "ipython3",
   "version": "3.7.7"
  }
 },
 "nbformat": 4,
 "nbformat_minor": 4
}
